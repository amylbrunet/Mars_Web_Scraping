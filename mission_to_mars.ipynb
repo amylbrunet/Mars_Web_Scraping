{
 "cells": [
  {
   "cell_type": "code",
   "execution_count": 13,
   "id": "56f78450",
   "metadata": {},
   "outputs": [],
   "source": [
    "import pandas as pd\n",
    "from splinter import Browser\n",
    "from bs4 import BeautifulSoup as bs\n",
    "from webdriver_manager.chrome import ChromeDriverManager"
   ]
  },
  {
   "cell_type": "code",
   "execution_count": 14,
   "id": "0aa190eb",
   "metadata": {},
   "outputs": [
    {
     "name": "stderr",
     "output_type": "stream",
     "text": [
      "\n",
      "\n",
      "====== WebDriver manager ======\n",
      "Current google-chrome version is 96.0.4664\n",
      "Get LATEST chromedriver version for 96.0.4664 google-chrome\n",
      "Driver [C:\\Users\\amylb\\.wdm\\drivers\\chromedriver\\win32\\96.0.4664.45\\chromedriver.exe] found in cache\n"
     ]
    }
   ],
   "source": [
    "executable_path = {'executable_path': ChromeDriverManager().install()}\n",
    "browser = Browser('chrome', **executable_path, headless=False)"
   ]
  },
  {
   "cell_type": "markdown",
   "id": "b35b1091",
   "metadata": {},
   "source": [
    "### Mars News"
   ]
  },
  {
   "cell_type": "code",
   "execution_count": 15,
   "id": "76e64cbb",
   "metadata": {},
   "outputs": [],
   "source": [
    "# visit browser url\n",
    "url = \"https://redplanetscience.com/\"\n",
    "browser.visit(url)"
   ]
  },
  {
   "cell_type": "code",
   "execution_count": 16,
   "id": "557ebe03",
   "metadata": {},
   "outputs": [],
   "source": [
    "# create html and parse\n",
    "html = browser.html\n",
    "soup = bs(html, \"html.parser\")"
   ]
  },
  {
   "cell_type": "code",
   "execution_count": 17,
   "id": "72d3eb1b",
   "metadata": {},
   "outputs": [],
   "source": [
    "# scrape the latest news title\n",
    "latest_news = soup.find_all(\"div\", class_=\"content_title\")[0]"
   ]
  },
  {
   "cell_type": "code",
   "execution_count": 18,
   "id": "c4ef7665",
   "metadata": {},
   "outputs": [
    {
     "data": {
      "text/plain": [
       "\"How NASA's Mars Helicopter Will Reach the Red Planet's Surface\""
      ]
     },
     "execution_count": 18,
     "metadata": {},
     "output_type": "execute_result"
    }
   ],
   "source": [
    "# assign latest news title to a variable to access later\n",
    "latest_news_title = latest_news.text\n",
    "latest_news_title"
   ]
  },
  {
   "cell_type": "code",
   "execution_count": 19,
   "id": "0b2bb353",
   "metadata": {},
   "outputs": [],
   "source": [
    "# scrape the latest news paragraph\n",
    "paragraph = soup.find_all(\"div\", class_=\"article_teaser_body\")[0]"
   ]
  },
  {
   "cell_type": "code",
   "execution_count": 20,
   "id": "2ca87113",
   "metadata": {},
   "outputs": [
    {
     "data": {
      "text/plain": [
       "'The small craft will seek to prove that powered, controlled flight is possible on another planet. But just getting it onto the surface of Mars will take a whole lot of ingenuity.'"
      ]
     },
     "execution_count": 20,
     "metadata": {},
     "output_type": "execute_result"
    }
   ],
   "source": [
    "# assign latest news paragraph to a variable to access later\n",
    "latest_news_paragraph = paragraph.text\n",
    "latest_news_paragraph"
   ]
  },
  {
   "cell_type": "markdown",
   "id": "e4cc973e",
   "metadata": {},
   "source": [
    "### Mars Featured Image"
   ]
  },
  {
   "cell_type": "code",
   "execution_count": 21,
   "id": "00ded1b6",
   "metadata": {},
   "outputs": [],
   "source": [
    "# visit browser url\n",
    "url = \"https://spaceimages-mars.com/\"\n",
    "browser.visit(url)"
   ]
  },
  {
   "cell_type": "code",
   "execution_count": 22,
   "id": "dbf773fb",
   "metadata": {},
   "outputs": [],
   "source": [
    "# create html and parse\n",
    "html = browser.html\n",
    "soup = bs(html, \"html.parser\")"
   ]
  },
  {
   "cell_type": "code",
   "execution_count": 23,
   "id": "7ac1b0f1",
   "metadata": {},
   "outputs": [
    {
     "data": {
      "text/plain": [
       "'image/featured/mars2.jpg'"
      ]
     },
     "execution_count": 23,
     "metadata": {},
     "output_type": "execute_result"
    }
   ],
   "source": [
    "# scrape latest image and assign to variable\n",
    "img = [i.get(\"src\") for i in soup.find_all(\"img\", class_=\"headerimage fade-in\")]\n",
    "img[0]"
   ]
  },
  {
   "cell_type": "code",
   "execution_count": 24,
   "id": "c36becca",
   "metadata": {},
   "outputs": [
    {
     "data": {
      "text/plain": [
       "'https://spaceimages-mars.com/image/featured/mars2.jpg'"
      ]
     },
     "execution_count": 24,
     "metadata": {},
     "output_type": "execute_result"
    }
   ],
   "source": [
    "# concat main url with image url\n",
    "# assign to variable to access later\n",
    "featured_image_url = url + img[0]\n",
    "featured_image_url"
   ]
  },
  {
   "cell_type": "markdown",
   "id": "5b0d57e0",
   "metadata": {},
   "source": [
    "### Mars Facts"
   ]
  },
  {
   "cell_type": "code",
   "execution_count": 25,
   "id": "ef9bb11a",
   "metadata": {},
   "outputs": [],
   "source": [
    "# visit browser url\n",
    "url = \"https://galaxyfacts-mars.com/\"\n",
    "browser.visit(url)"
   ]
  },
  {
   "cell_type": "code",
   "execution_count": 26,
   "id": "e5484052",
   "metadata": {},
   "outputs": [],
   "source": [
    "# create html and parse\n",
    "html = browser.html\n",
    "soup = bs(html, \"html.parser\")"
   ]
  },
  {
   "cell_type": "code",
   "execution_count": 27,
   "id": "0cc18980",
   "metadata": {},
   "outputs": [
    {
     "data": {
      "text/plain": [
       "<table class=\"table\">\n",
       "<tbody>\n",
       "<tr>\n",
       "<th scope=\"row\"><b> Mars - Earth Comparison</b></th>\n",
       "<td><span class=\"orange\"><b> Mars</b></span></td>\n",
       "<td><span class=\"purple\"> <b>Earth </b></span> </td>\n",
       "</tr>\n",
       "<tr>\n",
       "<th scope=\"row\">Diameter:</th>\n",
       "<td><span class=\"orange\">6,779 km</span></td>\n",
       "<td><span class=\"purple\">12,742 km</span> </td>\n",
       "</tr>\n",
       "<tr>\n",
       "<th scope=\"row\">Mass:</th>\n",
       "<td><span class=\"orange\">6.39 × 10^23 kg </span></td>\n",
       "<td><span class=\"purple\">5.97 × 10^24 kg</span> </td>\n",
       "</tr>\n",
       "<tr>\n",
       "<th scope=\"row\">Moons:</th>\n",
       "<td><span class=\"orange\">2</span></td>\n",
       "<td><span class=\"purple\">1</span> </td>\n",
       "</tr>\n",
       "<tr>\n",
       "<th scope=\"row\">Distance from Sun:</th>\n",
       "<td><span class=\"orange\">227,943,824 km</span></td>\n",
       "<td><span class=\"purple\">149,598,262 km</span> </td>\n",
       "</tr>\n",
       "<tr>\n",
       "<th scope=\"row\">Length of Year:</th>\n",
       "<td><span class=\"orange\">687 Earth days</span></td>\n",
       "<td><span class=\"purple\">365.24 days</span> </td>\n",
       "</tr>\n",
       "<tr>\n",
       "<th scope=\"row\">Temperature:</th>\n",
       "<td><span class=\"orange\">-87 to -5 °C</span></td>\n",
       "<td><span class=\"purple\">\t-88 to 58°C</span> </td>\n",
       "</tr>\n",
       "</tbody>\n",
       "</table>"
      ]
     },
     "execution_count": 27,
     "metadata": {},
     "output_type": "execute_result"
    }
   ],
   "source": [
    "# scrape the mars earth comparison table and assign variable\n",
    "table = soup.find_all(\"table\", class_=\"table\")[0]\n",
    "table"
   ]
  },
  {
   "cell_type": "code",
   "execution_count": 28,
   "id": "7a8bab20",
   "metadata": {},
   "outputs": [
    {
     "data": {
      "text/plain": [
       "[' Mars - Earth Comparison',\n",
       " 'Diameter:',\n",
       " 'Mass:',\n",
       " 'Moons:',\n",
       " 'Distance from Sun:',\n",
       " 'Length of Year:',\n",
       " 'Temperature:']"
      ]
     },
     "execution_count": 28,
     "metadata": {},
     "output_type": "execute_result"
    }
   ],
   "source": [
    "# create variable for just table headers for data frame\n",
    "table_header = [i.text for i in table(\"th\")]\n",
    "table_header"
   ]
  },
  {
   "cell_type": "code",
   "execution_count": 29,
   "id": "b7a348ce",
   "metadata": {},
   "outputs": [
    {
     "data": {
      "text/plain": [
       "[' Mars',\n",
       " '6,779 km',\n",
       " '6.39 × 10^23 kg ',\n",
       " '2',\n",
       " '227,943,824 km',\n",
       " '687 Earth days',\n",
       " '-87 to -5 °C']"
      ]
     },
     "execution_count": 29,
     "metadata": {},
     "output_type": "execute_result"
    }
   ],
   "source": [
    "# create variable for mars column contents\n",
    "mars_column = [i.text for i in table(\"span\", class_=\"orange\")]\n",
    "mars_column"
   ]
  },
  {
   "cell_type": "code",
   "execution_count": 30,
   "id": "48d19194",
   "metadata": {},
   "outputs": [
    {
     "data": {
      "text/plain": [
       "[' Earth ',\n",
       " '12,742 km',\n",
       " '5.97 × 10^24 kg',\n",
       " '1',\n",
       " '149,598,262 km',\n",
       " '365.24 days',\n",
       " '\\t-88 to 58°C']"
      ]
     },
     "execution_count": 30,
     "metadata": {},
     "output_type": "execute_result"
    }
   ],
   "source": [
    "# create variable for earth column contents\n",
    "earth_column = [i.text for i in table(\"span\", class_=\"purple\")]\n",
    "earth_column"
   ]
  },
  {
   "cell_type": "code",
   "execution_count": 32,
   "id": "5bb0095f",
   "metadata": {},
   "outputs": [
    {
     "data": {
      "text/html": [
       "<div>\n",
       "<style scoped>\n",
       "    .dataframe tbody tr th:only-of-type {\n",
       "        vertical-align: middle;\n",
       "    }\n",
       "\n",
       "    .dataframe tbody tr th {\n",
       "        vertical-align: top;\n",
       "    }\n",
       "\n",
       "    .dataframe thead th {\n",
       "        text-align: right;\n",
       "    }\n",
       "</style>\n",
       "<table border=\"1\" class=\"dataframe\">\n",
       "  <thead>\n",
       "    <tr style=\"text-align: right;\">\n",
       "      <th></th>\n",
       "      <th>Mars</th>\n",
       "      <th>Earth</th>\n",
       "    </tr>\n",
       "    <tr>\n",
       "      <th>Description</th>\n",
       "      <th></th>\n",
       "      <th></th>\n",
       "    </tr>\n",
       "  </thead>\n",
       "  <tbody>\n",
       "    <tr>\n",
       "      <th>Mars - Earth Comparison</th>\n",
       "      <td>Mars</td>\n",
       "      <td>Earth</td>\n",
       "    </tr>\n",
       "    <tr>\n",
       "      <th>Diameter:</th>\n",
       "      <td>6,779 km</td>\n",
       "      <td>12,742 km</td>\n",
       "    </tr>\n",
       "    <tr>\n",
       "      <th>Mass:</th>\n",
       "      <td>6.39 × 10^23 kg</td>\n",
       "      <td>5.97 × 10^24 kg</td>\n",
       "    </tr>\n",
       "    <tr>\n",
       "      <th>Moons:</th>\n",
       "      <td>2</td>\n",
       "      <td>1</td>\n",
       "    </tr>\n",
       "    <tr>\n",
       "      <th>Distance from Sun:</th>\n",
       "      <td>227,943,824 km</td>\n",
       "      <td>149,598,262 km</td>\n",
       "    </tr>\n",
       "    <tr>\n",
       "      <th>Length of Year:</th>\n",
       "      <td>687 Earth days</td>\n",
       "      <td>365.24 days</td>\n",
       "    </tr>\n",
       "    <tr>\n",
       "      <th>Temperature:</th>\n",
       "      <td>-87 to -5 °C</td>\n",
       "      <td>\\t-88 to 58°C</td>\n",
       "    </tr>\n",
       "  </tbody>\n",
       "</table>\n",
       "</div>"
      ],
      "text/plain": [
       "                                      Mars            Earth\n",
       "Description                                                \n",
       " Mars - Earth Comparison              Mars           Earth \n",
       "Diameter:                         6,779 km        12,742 km\n",
       "Mass:                     6.39 × 10^23 kg   5.97 × 10^24 kg\n",
       "Moons:                                   2                1\n",
       "Distance from Sun:          227,943,824 km   149,598,262 km\n",
       "Length of Year:             687 Earth days      365.24 days\n",
       "Temperature:                  -87 to -5 °C    \\t-88 to 58°C"
      ]
     },
     "execution_count": 32,
     "metadata": {},
     "output_type": "execute_result"
    }
   ],
   "source": [
    "# create data frame\n",
    "table_df = {\"Description\": table_header, \"Mars\": mars_column, \"Earth\": earth_column}\n",
    "df = pd.DataFrame(table_df)\n",
    "df.set_index(\"Description\", inplace=True)\n",
    "df"
   ]
  },
  {
   "cell_type": "code",
   "execution_count": 33,
   "id": "7b9a7739",
   "metadata": {},
   "outputs": [
    {
     "data": {
      "text/html": [
       "<div>\n",
       "<style scoped>\n",
       "    .dataframe tbody tr th:only-of-type {\n",
       "        vertical-align: middle;\n",
       "    }\n",
       "\n",
       "    .dataframe tbody tr th {\n",
       "        vertical-align: top;\n",
       "    }\n",
       "\n",
       "    .dataframe thead th {\n",
       "        text-align: right;\n",
       "    }\n",
       "</style>\n",
       "<table border=\"1\" class=\"dataframe\">\n",
       "  <thead>\n",
       "    <tr style=\"text-align: right;\">\n",
       "      <th></th>\n",
       "      <th>Mars</th>\n",
       "      <th>Earth</th>\n",
       "    </tr>\n",
       "    <tr>\n",
       "      <th>Description</th>\n",
       "      <th></th>\n",
       "      <th></th>\n",
       "    </tr>\n",
       "  </thead>\n",
       "  <tbody>\n",
       "    <tr>\n",
       "      <th>Mars - Earth Comparison</th>\n",
       "      <td>Mars</td>\n",
       "      <td>Earth</td>\n",
       "    </tr>\n",
       "    <tr>\n",
       "      <th>Diameter:</th>\n",
       "      <td>6,779 km</td>\n",
       "      <td>12,742 km</td>\n",
       "    </tr>\n",
       "    <tr>\n",
       "      <th>Mass:</th>\n",
       "      <td>6.39 × 10^23 kg</td>\n",
       "      <td>5.97 × 10^24 kg</td>\n",
       "    </tr>\n",
       "    <tr>\n",
       "      <th>Moons:</th>\n",
       "      <td>2</td>\n",
       "      <td>1</td>\n",
       "    </tr>\n",
       "    <tr>\n",
       "      <th>Distance from Sun:</th>\n",
       "      <td>227,943,824 km</td>\n",
       "      <td>149,598,262 km</td>\n",
       "    </tr>\n",
       "    <tr>\n",
       "      <th>Length of Year:</th>\n",
       "      <td>687 Earth days</td>\n",
       "      <td>365.24 days</td>\n",
       "    </tr>\n",
       "    <tr>\n",
       "      <th>Temperature:</th>\n",
       "      <td>-87 to -5 °C</td>\n",
       "      <td>-88 to 58°C</td>\n",
       "    </tr>\n",
       "  </tbody>\n",
       "</table>\n",
       "</div>"
      ],
      "text/plain": [
       "                                      Mars            Earth\n",
       "Description                                                \n",
       " Mars - Earth Comparison              Mars           Earth \n",
       "Diameter:                         6,779 km        12,742 km\n",
       "Mass:                     6.39 × 10^23 kg   5.97 × 10^24 kg\n",
       "Moons:                                   2                1\n",
       "Distance from Sun:          227,943,824 km   149,598,262 km\n",
       "Length of Year:             687 Earth days      365.24 days\n",
       "Temperature:                  -87 to -5 °C      -88 to 58°C"
      ]
     },
     "execution_count": 33,
     "metadata": {},
     "output_type": "execute_result"
    }
   ],
   "source": [
    "# remove the /t from last row of earth temp info\n",
    "df[\"Earth\"] = df[\"Earth\"].str.replace(\"\\t\", \"\")\n",
    "df"
   ]
  },
  {
   "cell_type": "code",
   "execution_count": 34,
   "id": "5785cb4c",
   "metadata": {},
   "outputs": [],
   "source": [
    "# convert table to html text\n",
    "comparison_table = df.to_html(classes=\"table table-striped\")"
   ]
  },
  {
   "cell_type": "markdown",
   "id": "fb3e3e06",
   "metadata": {},
   "source": [
    "### Mars Hemispheres"
   ]
  },
  {
   "cell_type": "code",
   "execution_count": 35,
   "id": "1ff872ec",
   "metadata": {},
   "outputs": [],
   "source": [
    "# visit browser url\n",
    "url = \"https://marshemispheres.com/\"\n",
    "browser.visit(url)"
   ]
  },
  {
   "cell_type": "code",
   "execution_count": 37,
   "id": "99dd0601",
   "metadata": {},
   "outputs": [],
   "source": [
    "# create empty list for each hemisphere image\n",
    "hemisphere_image_urls = []"
   ]
  },
  {
   "cell_type": "code",
   "execution_count": 38,
   "id": "523da10e",
   "metadata": {},
   "outputs": [],
   "source": [
    "# scrape images by looping through\n",
    "# get image title and image url\n",
    "for i in range(4):\n",
    "    html = browser.html\n",
    "    soup = bs(html, \"html.parser\")\n",
    "    \n",
    "    title = soup.find_all(\"h3\")[i].get_text()\n",
    "    browser.find_by_tag('h3')[i].click()\n",
    "    \n",
    "    html = browser.html\n",
    "    soup = bs(html, \"html.parser\")\n",
    "    \n",
    "    img_url = soup.find(\"img\", class_=\"wide-image\")[\"src\"]\n",
    "    \n",
    "    hemisphere_image_urls.append({\n",
    "        \"title\": title,\n",
    "        \"img_url\": \"https://marshemispheres.com/\" + img_url\n",
    "    })\n",
    "    browser.back()"
   ]
  },
  {
   "cell_type": "code",
   "execution_count": 39,
   "id": "3ea6e630",
   "metadata": {},
   "outputs": [
    {
     "data": {
      "text/plain": [
       "[{'title': 'Cerberus Hemisphere Enhanced',\n",
       "  'img_url': 'https://marshemispheres.com/images/f5e372a36edfa389625da6d0cc25d905_cerberus_enhanced.tif_full.jpg'},\n",
       " {'title': 'Schiaparelli Hemisphere Enhanced',\n",
       "  'img_url': 'https://marshemispheres.com/images/3778f7b43bbbc89d6e3cfabb3613ba93_schiaparelli_enhanced.tif_full.jpg'},\n",
       " {'title': 'Syrtis Major Hemisphere Enhanced',\n",
       "  'img_url': 'https://marshemispheres.com/images/555e6403a6ddd7ba16ddb0e471cadcf7_syrtis_major_enhanced.tif_full.jpg'},\n",
       " {'title': 'Valles Marineris Hemisphere Enhanced',\n",
       "  'img_url': 'https://marshemispheres.com/images/b3c7c6c9138f57b4756be9b9c43e3a48_valles_marineris_enhanced.tif_full.jpg'}]"
      ]
     },
     "execution_count": 39,
     "metadata": {},
     "output_type": "execute_result"
    }
   ],
   "source": [
    "hemisphere_image_urls"
   ]
  },
  {
   "cell_type": "code",
   "execution_count": 40,
   "id": "063f6479",
   "metadata": {},
   "outputs": [],
   "source": [
    "browser.quit()"
   ]
  },
  {
   "cell_type": "code",
   "execution_count": null,
   "id": "6e63b8eb",
   "metadata": {},
   "outputs": [],
   "source": []
  }
 ],
 "metadata": {
  "kernelspec": {
   "display_name": "Python 3",
   "language": "python",
   "name": "python3"
  },
  "language_info": {
   "codemirror_mode": {
    "name": "ipython",
    "version": 3
   },
   "file_extension": ".py",
   "mimetype": "text/x-python",
   "name": "python",
   "nbconvert_exporter": "python",
   "pygments_lexer": "ipython3",
   "version": "3.8.8"
  }
 },
 "nbformat": 4,
 "nbformat_minor": 5
}
